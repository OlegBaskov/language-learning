{
 "cells": [
  {
   "cell_type": "markdown",
   "metadata": {},
   "source": [
    "# Clustering: KLE -- k-means, MLE -- mean shift `2018-11-10`\n",
    "\n",
    "This notebook is shared as static [LE-clustering-KLE-MLE-2018-11-10_.html](http://langlearn.singularitynet.io/data/clustering_2018/html/LE-clustering-KLE-MLE-2018-11-10_.html).  \n",
    "Data: [LE-clustering-KLE-MLE-2018-11-10_](http://langlearn.singularitynet.io/data/clustering_2018/LE-clustering-KLE-MLE-2018-11-10_/).  "
   ]
  },
  {
   "cell_type": "markdown",
   "metadata": {},
   "source": [
    "## Basic settings"
   ]
  },
  {
   "cell_type": "code",
   "execution_count": 1,
   "metadata": {
    "ExecuteTime": {
     "end_time": "2018-11-10T10:08:18.812115Z",
     "start_time": "2018-11-10T10:08:17.834192Z"
    }
   },
   "outputs": [
    {
     "name": "stdout",
     "output_type": "stream",
     "text": [
      "2018-11-10 10:08:18 UTC :: module_path = /home/obaskov/94/language-learning\n"
     ]
    }
   ],
   "source": [
    "import os, sys, time\n",
    "module_path = os.path.abspath(os.path.join('..'))\n",
    "if module_path not in sys.path: sys.path.append(module_path)\n",
    "from src.grammar_learner.utl import UTC\n",
    "from src.grammar_learner.read_files import check_dir\n",
    "from src.grammar_learner.write_files import list2file\n",
    "from src.grammar_learner.widgets import html_table\n",
    "from src.grammar_learner.pqa_table import table_rows\n",
    "tmpath = module_path + '/tmp/'\n",
    "check_dir(tmpath, True, 'none')\n",
    "table = []\n",
    "long_table = []\n",
    "start = time.time()\n",
    "print(UTC(), ':: module_path =', module_path)"
   ]
  },
  {
   "cell_type": "markdown",
   "metadata": {},
   "source": [
    "## Corpus test settings"
   ]
  },
  {
   "cell_type": "code",
   "execution_count": 2,
   "metadata": {
    "ExecuteTime": {
     "end_time": "2018-11-10T10:08:18.827619Z",
     "start_time": "2018-11-10T10:08:18.815057Z"
    }
   },
   "outputs": [],
   "source": [
    "out_dir = module_path + '/output/LE-clustering-KLE-MLE-' + str(UTC())[:10] + '_'\n",
    "# corpus = 'CDS-caps-br-text+brent9mos'\n",
    "corpus = 'CDS-caps-br-text'\n",
    "# dataset = 'LG-English'\n",
    "dataset = 'LG-English-clean-clean'  # only 100% parsed sentences\n",
    "runs = (1,1)\n",
    "if runs != (1,1): out_dir += '-multi'\n",
    "kwargs = {\n",
    "    'left_wall'     :   ''          ,\n",
    "    'period'        :   False       ,\n",
    "    'context'       :   2           ,\n",
    "    'min_word_count':   1           ,\n",
    "    'min_link_count':   1           ,\n",
    "    'max_words'     :   100000      ,\n",
    "    'max_features'  :   100000      ,\n",
    "    'min_co-occurrence_count':  1   ,\n",
    "    'word_space'    :   'sparse'    ,\n",
    "    'clustering'    :   ('agglomerative', 'ward'),\n",
    "    'cluster_range' :   200         ,\n",
    "    'clustering_metric' : ('silhouette', 'cosine'),\n",
    "    'grammar_rules' :   2           ,\n",
    "    'max_disjuncts' :   100000      ,\n",
    "    'tmpath'        :   tmpath      , \n",
    "    'template_path' :   'poc-turtle',\n",
    "    'linkage_limit' :   1000        ,\n",
    "    'verbose'       :   'min'       }\n",
    "lines = [\n",
    "    [33, corpus , 'LG-English'                     ,0,0, 'none'  ], \n",
    "    [34, corpus , 'LG-English'                     ,0,0, 'rules' ], \n",
    "    [35, corpus , 'R=6-Weight=6:R-mst-weight=+1:R' ,0,0, 'none'  ], \n",
    "    [36, corpus , 'R=6-Weight=6:R-mst-weight=+1:R' ,0,0, 'rules' ]]\n",
    "# rp = module_path + '/data/CDS-caps-br-text+brent9mos/LG-English'\n",
    "# rp = module_path + '/data/CDS-caps-br-text/LG-English'  # shorter test 81025\n",
    "rp = module_path + '/data/CDS-caps-br-text/LG-English-clean-clean'\n",
    "cp = rp  # corpus path = reference_path :: use 'gold' parses as test corpus"
   ]
  },
  {
   "cell_type": "markdown",
   "metadata": {},
   "source": [
    "# Tests with \"clean\" training and test sets"
   ]
  },
  {
   "cell_type": "code",
   "execution_count": 3,
   "metadata": {
    "ExecuteTime": {
     "end_time": "2018-11-10T10:08:18.910239Z",
     "start_time": "2018-11-10T10:08:18.830184Z"
    }
   },
   "outputs": [],
   "source": [
    "corpus = 'CDS-caps-br-text'\n",
    "dataset = 'LG-English-clean-clean'  # only 100% parsed sentences\n",
    "lines = [[33, corpus, 'LG-English-clean-clean',0, 0, 'none'], \n",
    "         [34, corpus, 'LG-English-clean-clean',0, 0, 'rules']]"
   ]
  },
  {
   "cell_type": "markdown",
   "metadata": {},
   "source": [
    "## Agglomerative clustering"
   ]
  },
  {
   "cell_type": "code",
   "execution_count": 4,
   "metadata": {
    "ExecuteTime": {
     "end_time": "2018-11-10T10:08:33.554880Z",
     "start_time": "2018-11-10T10:08:18.913634Z"
    }
   },
   "outputs": [],
   "source": [
    "%%capture\n",
    "a, _, header = table_rows(lines, out_dir, cp, rp, runs, **kwargs)\n",
    "table.extend(a)"
   ]
  },
  {
   "cell_type": "code",
   "execution_count": 5,
   "metadata": {
    "ExecuteTime": {
     "end_time": "2018-11-10T10:08:33.569966Z",
     "start_time": "2018-11-10T10:08:33.559494Z"
    }
   },
   "outputs": [
    {
     "data": {
      "text/html": [
       "<table><tr><td>Line</td><td>Corpus</td><td>Parsing</td><td>LW</td><td>RW</td><td>Gen.</td><td>Space</td><td>Rules</td><td>Silhouette</td><td>PA</td><td>PQ</td><td>F1</td></tr><tr><td>33</td><td>CDS-caps-br-text</td><td>LG-English-clean-clean</td><td> --- </td><td> --- </td><td>none</td><td>dALEd</td><td>200</td><td> --- </td><td>99%</td><td>98%</td><td>0.98</td></tr><tr><td>34</td><td>CDS-caps-br-text</td><td>LG-English-clean-clean</td><td> --- </td><td> --- </td><td>rules</td><td>dALEd</td><td>180</td><td> --- </td><td>99%</td><td>97%</td><td>0.98</td></tr></table>"
      ],
      "text/plain": [
       "<IPython.core.display.HTML object>"
      ]
     },
     "metadata": {},
     "output_type": "display_data"
    }
   ],
   "source": [
    "display(html_table([header] + a))"
   ]
  },
  {
   "cell_type": "markdown",
   "metadata": {},
   "source": [
    "## K-means clustering, 200 clusters"
   ]
  },
  {
   "cell_type": "code",
   "execution_count": 6,
   "metadata": {
    "ExecuteTime": {
     "end_time": "2018-11-10T10:09:15.734179Z",
     "start_time": "2018-11-10T10:08:33.573918Z"
    },
    "scrolled": false
   },
   "outputs": [],
   "source": [
    "%%capture\n",
    "kwargs['clustering'] = ('k-means', 'kmeans++', 10)\n",
    "k, _, header = table_rows(lines, out_dir, cp, rp, runs, **kwargs)\n",
    "table.extend(k)"
   ]
  },
  {
   "cell_type": "code",
   "execution_count": 7,
   "metadata": {
    "ExecuteTime": {
     "end_time": "2018-11-10T10:09:15.743928Z",
     "start_time": "2018-11-10T10:09:15.738130Z"
    }
   },
   "outputs": [
    {
     "data": {
      "text/html": [
       "<table><tr><td>Line</td><td>Corpus</td><td>Parsing</td><td>LW</td><td>RW</td><td>Gen.</td><td>Space</td><td>Rules</td><td>Silhouette</td><td>PA</td><td>PQ</td><td>F1</td></tr><tr><td>33</td><td>CDS-caps-br-text</td><td>LG-English-clean-clean</td><td> --- </td><td> --- </td><td>none</td><td>dKLEd</td><td>200</td><td> --- </td><td>99%</td><td>98%</td><td>0.98</td></tr><tr><td>34</td><td>CDS-caps-br-text</td><td>LG-English-clean-clean</td><td> --- </td><td> --- </td><td>rules</td><td>dKLEd</td><td>182</td><td> --- </td><td>99%</td><td>97%</td><td>0.98</td></tr></table>"
      ],
      "text/plain": [
       "<IPython.core.display.HTML object>"
      ]
     },
     "metadata": {},
     "output_type": "display_data"
    }
   ],
   "source": [
    "display(html_table([header] + k))"
   ]
  },
  {
   "cell_type": "markdown",
   "metadata": {},
   "source": [
    "## Mean shift clustering"
   ]
  },
  {
   "cell_type": "code",
   "execution_count": 8,
   "metadata": {
    "ExecuteTime": {
     "end_time": "2018-11-10T10:11:57.476136Z",
     "start_time": "2018-11-10T10:09:15.746810Z"
    }
   },
   "outputs": [],
   "source": [
    "%%capture\n",
    "kwargs['clustering'] = ('mean_shift', 2)\n",
    "m, _, header = table_rows(lines, out_dir, cp, rp, runs, **kwargs)\n",
    "table.extend(m)"
   ]
  },
  {
   "cell_type": "code",
   "execution_count": 9,
   "metadata": {
    "ExecuteTime": {
     "end_time": "2018-11-10T10:11:57.485812Z",
     "start_time": "2018-11-10T10:11:57.479936Z"
    }
   },
   "outputs": [
    {
     "data": {
      "text/html": [
       "<table><tr><td>Line</td><td>Corpus</td><td>Parsing</td><td>LW</td><td>RW</td><td>Gen.</td><td>Space</td><td>Rules</td><td>Silhouette</td><td>PA</td><td>PQ</td><td>F1</td></tr><tr><td>33</td><td>CDS-caps-br-text</td><td>LG-English-clean-clean</td><td> --- </td><td> --- </td><td>none</td><td>dMLEd</td><td>309</td><td> --- </td><td>99%</td><td>97%</td><td>0.97</td></tr><tr><td>34</td><td>CDS-caps-br-text</td><td>LG-English-clean-clean</td><td> --- </td><td> --- </td><td>rules</td><td>dMLEd</td><td>289</td><td> --- </td><td>99%</td><td>97%</td><td>0.97</td></tr></table>"
      ],
      "text/plain": [
       "<IPython.core.display.HTML object>"
      ]
     },
     "metadata": {},
     "output_type": "display_data"
    }
   ],
   "source": [
    "display(html_table([header] + m))"
   ]
  },
  {
   "cell_type": "markdown",
   "metadata": {},
   "source": [
    "# Training with basic corpus\n",
    "Both \"br-text\" and \"brent9mos\" corpora, no cleanup"
   ]
  },
  {
   "cell_type": "code",
   "execution_count": 10,
   "metadata": {
    "ExecuteTime": {
     "end_time": "2018-11-10T10:11:57.582479Z",
     "start_time": "2018-11-10T10:11:57.488616Z"
    }
   },
   "outputs": [],
   "source": [
    "corpus = 'CDS-caps-br-text+brent9mos'\n",
    "dataset = 'LG-English'\n",
    "rp = module_path + '/data/CDS-caps-br-text/LG-English-clean-clean'\n",
    "cp = rp  # corpus path = reference_path\n",
    "lines = [\n",
    "    [33, corpus , 'LG-English'                     ,0,0, 'none'  ], \n",
    "    [34, corpus , 'LG-English'                     ,0,0, 'rules' ], \n",
    "    [35, corpus , 'R=6-Weight=6:R-mst-weight=+1:R' ,0,0, 'none'  ], \n",
    "    [36, corpus , 'R=6-Weight=6:R-mst-weight=+1:R' ,0,0, 'rules' ]]"
   ]
  },
  {
   "cell_type": "markdown",
   "metadata": {},
   "source": [
    "## Agglomerative clustering"
   ]
  },
  {
   "cell_type": "code",
   "execution_count": 11,
   "metadata": {
    "ExecuteTime": {
     "end_time": "2018-11-10T10:22:45.543353Z",
     "start_time": "2018-11-10T10:11:57.585822Z"
    }
   },
   "outputs": [],
   "source": [
    "%%capture\n",
    "kwargs['clustering'] = ('agglomerative', 'ward')\n",
    "a2, _, header = table_rows(lines, out_dir, cp, rp, runs, **kwargs)\n",
    "table.extend(a2)"
   ]
  },
  {
   "cell_type": "code",
   "execution_count": 12,
   "metadata": {
    "ExecuteTime": {
     "end_time": "2018-11-10T10:22:45.552661Z",
     "start_time": "2018-11-10T10:22:45.547017Z"
    }
   },
   "outputs": [
    {
     "data": {
      "text/html": [
       "<table><tr><td>Line</td><td>Corpus</td><td>Parsing</td><td>LW</td><td>RW</td><td>Gen.</td><td>Space</td><td>Rules</td><td>Silhouette</td><td>PA</td><td>PQ</td><td>F1</td></tr><tr><td>33</td><td>CDS-caps-br-text+brent9mos</td><td>LG-English</td><td> --- </td><td> --- </td><td>none</td><td>dALEd</td><td>200</td><td> --- </td><td>99%</td><td>95%</td><td>0.96</td></tr><tr><td>34</td><td>CDS-caps-br-text+brent9mos</td><td>LG-English</td><td> --- </td><td> --- </td><td>rules</td><td>dALEd</td><td>170</td><td> --- </td><td>99%</td><td>94%</td><td>0.94</td></tr><tr><td>35</td><td>CDS-caps-br-text+brent9mos</td><td>R=6-Weight=6:R-mst-weight=+1:R</td><td> --- </td><td> --- </td><td>none</td><td>dALEd</td><td>200</td><td> --- </td><td>79%</td><td>48%</td><td>0.50</td></tr><tr><td>36</td><td>CDS-caps-br-text+brent9mos</td><td>R=6-Weight=6:R-mst-weight=+1:R</td><td> --- </td><td> --- </td><td>rules</td><td>dALEd</td><td>200</td><td> --- </td><td>79%</td><td>48%</td><td>0.50</td></tr></table>"
      ],
      "text/plain": [
       "<IPython.core.display.HTML object>"
      ]
     },
     "metadata": {},
     "output_type": "display_data"
    }
   ],
   "source": [
    "display(html_table([header] + a2))"
   ]
  },
  {
   "cell_type": "markdown",
   "metadata": {},
   "source": [
    "## K-means clustering, 200 clusters"
   ]
  },
  {
   "cell_type": "code",
   "execution_count": 13,
   "metadata": {
    "ExecuteTime": {
     "end_time": "2018-11-10T10:39:31.567780Z",
     "start_time": "2018-11-10T10:22:45.555713Z"
    }
   },
   "outputs": [],
   "source": [
    "%%capture\n",
    "kwargs['clustering'] = ('k-means', 'kmeans++', 10)\n",
    "k2, _, header = table_rows(lines, out_dir, cp, rp, runs, **kwargs)\n",
    "table.extend(k2)"
   ]
  },
  {
   "cell_type": "code",
   "execution_count": 14,
   "metadata": {
    "ExecuteTime": {
     "end_time": "2018-11-10T10:39:31.573136Z",
     "start_time": "2018-11-10T10:39:31.569640Z"
    }
   },
   "outputs": [
    {
     "data": {
      "text/html": [
       "<table><tr><td>Line</td><td>Corpus</td><td>Parsing</td><td>LW</td><td>RW</td><td>Gen.</td><td>Space</td><td>Rules</td><td>Silhouette</td><td>PA</td><td>PQ</td><td>F1</td></tr><tr><td>33</td><td>CDS-caps-br-text+brent9mos</td><td>LG-English</td><td> --- </td><td> --- </td><td>none</td><td>dKLEd</td><td>200</td><td> --- </td><td>99%</td><td>96%</td><td>0.96</td></tr><tr><td>34</td><td>CDS-caps-br-text+brent9mos</td><td>LG-English</td><td> --- </td><td> --- </td><td>rules</td><td>dKLEd</td><td>170</td><td> --- </td><td>99%</td><td>93%</td><td>0.94</td></tr><tr><td>35</td><td>CDS-caps-br-text+brent9mos</td><td>R=6-Weight=6:R-mst-weight=+1:R</td><td> --- </td><td> --- </td><td>none</td><td>dKLEd</td><td>200</td><td> --- </td><td>81%</td><td>48%</td><td>0.50</td></tr><tr><td>36</td><td>CDS-caps-br-text+brent9mos</td><td>R=6-Weight=6:R-mst-weight=+1:R</td><td> --- </td><td> --- </td><td>rules</td><td>dKLEd</td><td>200</td><td> --- </td><td>80%</td><td>48%</td><td>0.50</td></tr></table>"
      ],
      "text/plain": [
       "<IPython.core.display.HTML object>"
      ]
     },
     "metadata": {},
     "output_type": "display_data"
    }
   ],
   "source": [
    "display(html_table([header] + k2))"
   ]
  },
  {
   "cell_type": "markdown",
   "metadata": {},
   "source": [
    "## Mean shift clustering"
   ]
  },
  {
   "cell_type": "code",
   "execution_count": 15,
   "metadata": {
    "ExecuteTime": {
     "end_time": "2018-11-10T14:22:43.742186Z",
     "start_time": "2018-11-10T10:39:31.574424Z"
    }
   },
   "outputs": [],
   "source": [
    "%%capture\n",
    "kwargs['clustering'] = ('mean_shift', 2)\n",
    "m2, _, header = table_rows(lines, out_dir, cp, rp, runs, **kwargs)\n",
    "table.extend(m2)"
   ]
  },
  {
   "cell_type": "code",
   "execution_count": 16,
   "metadata": {
    "ExecuteTime": {
     "end_time": "2018-11-10T14:22:43.748571Z",
     "start_time": "2018-11-10T14:22:43.744477Z"
    }
   },
   "outputs": [
    {
     "data": {
      "text/html": [
       "<table><tr><td>Line</td><td>Corpus</td><td>Parsing</td><td>LW</td><td>RW</td><td>Gen.</td><td>Space</td><td>Rules</td><td>Silhouette</td><td>PA</td><td>PQ</td><td>F1</td></tr><tr><td>33</td><td>CDS-caps-br-text+brent9mos</td><td>LG-English</td><td> --- </td><td> --- </td><td>none</td><td>dMLEd</td><td>1073</td><td> --- </td><td>99%</td><td>97%</td><td>0.98</td></tr><tr><td>34</td><td>CDS-caps-br-text+brent9mos</td><td>LG-English</td><td> --- </td><td> --- </td><td>rules</td><td>dMLEd</td><td>1038</td><td> --- </td><td>99%</td><td>97%</td><td>0.97</td></tr><tr><td>35</td><td>CDS-caps-br-text+brent9mos</td><td>R=6-Weight=6:R-mst-weight=+1:R</td><td> --- </td><td> --- </td><td>none</td><td>dMLEd</td><td>1406</td><td> --- </td><td>73%</td><td>46%</td><td>0.49</td></tr><tr><td>36</td><td>CDS-caps-br-text+brent9mos</td><td>R=6-Weight=6:R-mst-weight=+1:R</td><td> --- </td><td> --- </td><td>rules</td><td>dMLEd</td><td>1405</td><td> --- </td><td>73%</td><td>46%</td><td>0.49</td></tr></table>"
      ],
      "text/plain": [
       "<IPython.core.display.HTML object>"
      ]
     },
     "metadata": {},
     "output_type": "display_data"
    }
   ],
   "source": [
    "display(html_table([header] + m2))"
   ]
  },
  {
   "cell_type": "markdown",
   "metadata": {},
   "source": [
    "# All tests"
   ]
  },
  {
   "cell_type": "code",
   "execution_count": 17,
   "metadata": {
    "ExecuteTime": {
     "end_time": "2018-11-10T14:22:43.840303Z",
     "start_time": "2018-11-10T14:22:43.750161Z"
    }
   },
   "outputs": [
    {
     "data": {
      "text/html": [
       "<table><tr><td>Line</td><td>Corpus</td><td>Parsing</td><td>LW</td><td>RW</td><td>Gen.</td><td>Space</td><td>Rules</td><td>Silhouette</td><td>PA</td><td>PQ</td><td>F1</td></tr><tr><td>33</td><td>CDS-caps-br-text</td><td>LG-English-clean-clean</td><td> --- </td><td> --- </td><td>none</td><td>dALEd</td><td>200</td><td> --- </td><td>99%</td><td>98%</td><td>0.98</td></tr><tr><td>34</td><td>CDS-caps-br-text</td><td>LG-English-clean-clean</td><td> --- </td><td> --- </td><td>rules</td><td>dALEd</td><td>180</td><td> --- </td><td>99%</td><td>97%</td><td>0.98</td></tr><tr><td>33</td><td>CDS-caps-br-text</td><td>LG-English-clean-clean</td><td> --- </td><td> --- </td><td>none</td><td>dKLEd</td><td>200</td><td> --- </td><td>99%</td><td>98%</td><td>0.98</td></tr><tr><td>34</td><td>CDS-caps-br-text</td><td>LG-English-clean-clean</td><td> --- </td><td> --- </td><td>rules</td><td>dKLEd</td><td>182</td><td> --- </td><td>99%</td><td>97%</td><td>0.98</td></tr><tr><td>33</td><td>CDS-caps-br-text</td><td>LG-English-clean-clean</td><td> --- </td><td> --- </td><td>none</td><td>dMLEd</td><td>309</td><td> --- </td><td>99%</td><td>97%</td><td>0.97</td></tr><tr><td>34</td><td>CDS-caps-br-text</td><td>LG-English-clean-clean</td><td> --- </td><td> --- </td><td>rules</td><td>dMLEd</td><td>289</td><td> --- </td><td>99%</td><td>97%</td><td>0.97</td></tr><tr><td>33</td><td>CDS-caps-br-text+brent9mos</td><td>LG-English</td><td> --- </td><td> --- </td><td>none</td><td>dALEd</td><td>200</td><td> --- </td><td>99%</td><td>95%</td><td>0.96</td></tr><tr><td>34</td><td>CDS-caps-br-text+brent9mos</td><td>LG-English</td><td> --- </td><td> --- </td><td>rules</td><td>dALEd</td><td>170</td><td> --- </td><td>99%</td><td>94%</td><td>0.94</td></tr><tr><td>35</td><td>CDS-caps-br-text+brent9mos</td><td>R=6-Weight=6:R-mst-weight=+1:R</td><td> --- </td><td> --- </td><td>none</td><td>dALEd</td><td>200</td><td> --- </td><td>79%</td><td>48%</td><td>0.50</td></tr><tr><td>36</td><td>CDS-caps-br-text+brent9mos</td><td>R=6-Weight=6:R-mst-weight=+1:R</td><td> --- </td><td> --- </td><td>rules</td><td>dALEd</td><td>200</td><td> --- </td><td>79%</td><td>48%</td><td>0.50</td></tr><tr><td>33</td><td>CDS-caps-br-text+brent9mos</td><td>LG-English</td><td> --- </td><td> --- </td><td>none</td><td>dKLEd</td><td>200</td><td> --- </td><td>99%</td><td>96%</td><td>0.96</td></tr><tr><td>34</td><td>CDS-caps-br-text+brent9mos</td><td>LG-English</td><td> --- </td><td> --- </td><td>rules</td><td>dKLEd</td><td>170</td><td> --- </td><td>99%</td><td>93%</td><td>0.94</td></tr><tr><td>35</td><td>CDS-caps-br-text+brent9mos</td><td>R=6-Weight=6:R-mst-weight=+1:R</td><td> --- </td><td> --- </td><td>none</td><td>dKLEd</td><td>200</td><td> --- </td><td>81%</td><td>48%</td><td>0.50</td></tr><tr><td>36</td><td>CDS-caps-br-text+brent9mos</td><td>R=6-Weight=6:R-mst-weight=+1:R</td><td> --- </td><td> --- </td><td>rules</td><td>dKLEd</td><td>200</td><td> --- </td><td>80%</td><td>48%</td><td>0.50</td></tr><tr><td>33</td><td>CDS-caps-br-text+brent9mos</td><td>LG-English</td><td> --- </td><td> --- </td><td>none</td><td>dMLEd</td><td>1073</td><td> --- </td><td>99%</td><td>97%</td><td>0.98</td></tr><tr><td>34</td><td>CDS-caps-br-text+brent9mos</td><td>LG-English</td><td> --- </td><td> --- </td><td>rules</td><td>dMLEd</td><td>1038</td><td> --- </td><td>99%</td><td>97%</td><td>0.97</td></tr><tr><td>35</td><td>CDS-caps-br-text+brent9mos</td><td>R=6-Weight=6:R-mst-weight=+1:R</td><td> --- </td><td> --- </td><td>none</td><td>dMLEd</td><td>1406</td><td> --- </td><td>73%</td><td>46%</td><td>0.49</td></tr><tr><td>36</td><td>CDS-caps-br-text+brent9mos</td><td>R=6-Weight=6:R-mst-weight=+1:R</td><td> --- </td><td> --- </td><td>rules</td><td>dMLEd</td><td>1405</td><td> --- </td><td>73%</td><td>46%</td><td>0.49</td></tr></table>"
      ],
      "text/plain": [
       "<IPython.core.display.HTML object>"
      ]
     },
     "metadata": {},
     "output_type": "display_data"
    }
   ],
   "source": [
    "display(html_table([header] + table))"
   ]
  },
  {
   "cell_type": "code",
   "execution_count": 18,
   "metadata": {
    "ExecuteTime": {
     "end_time": "2018-11-10T14:22:43.906067Z",
     "start_time": "2018-11-10T14:22:43.843593Z"
    }
   },
   "outputs": [
    {
     "name": "stdout",
     "output_type": "stream",
     "text": [
      "2018-11-10 14:22:43 UTC :: finished, elapsed 4.2 hours\n",
      "Results saved to /home/obaskov/94/language-learning/output/LE-clustering-KLE-MLE-2018-11-10_/short_table.txt\n"
     ]
    }
   ],
   "source": [
    "print(UTC(), ':: finished, elapsed', str(round((time.time()-start)/3600.0, 1)), 'hours')\n",
    "table_str = list2file(table, out_dir + '/short_table.txt')\n",
    "print('Results saved to', out_dir + '/short_table.txt')"
   ]
  },
  {
   "cell_type": "code",
   "execution_count": null,
   "metadata": {},
   "outputs": [],
   "source": []
  }
 ],
 "metadata": {
  "kernelspec": {
   "display_name": "Python [default]",
   "language": "python",
   "name": "python3"
  },
  "language_info": {
   "codemirror_mode": {
    "name": "ipython",
    "version": 3
   },
   "file_extension": ".py",
   "mimetype": "text/x-python",
   "name": "python",
   "nbconvert_exporter": "python",
   "pygments_lexer": "ipython3",
   "version": "3.6.6"
  },
  "toc": {
   "base_numbering": 1,
   "nav_menu": {},
   "number_sections": true,
   "sideBar": true,
   "skip_h1_title": false,
   "title_cell": "Table of Contents",
   "title_sidebar": "Contents",
   "toc_cell": false,
   "toc_position": {},
   "toc_section_display": true,
   "toc_window_display": false
  }
 },
 "nbformat": 4,
 "nbformat_minor": 2
}
