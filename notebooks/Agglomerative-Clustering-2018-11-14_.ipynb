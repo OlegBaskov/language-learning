{
 "cells": [
  {
   "cell_type": "markdown",
   "metadata": {},
   "source": [
    "# Agglomerative clustering tests `2018-11-14`\n",
    "\n",
    "Link Grammar 5.4.4, `test_grammar` updated 2018-10-19.  \n",
    "This notebook is shared as static [Agglomerative-Clustering-2018-11-14_.html](http://langlearn.singularitynet.io/data/clustering_2018/html/Agglomerative-Clustering-2018-11-14_.html)  \n",
    "Output data -- [Agglomerative-Clustering-2018-11-14_](http://langlearn.singularitynet.io/data/clustering_2018/Agglomerative-Clustering-2018-11-14_/) directory.  "
   ]
  },
  {
   "cell_type": "markdown",
   "metadata": {},
   "source": [
    "## Basic settings"
   ]
  },
  {
   "cell_type": "code",
   "execution_count": 1,
   "metadata": {
    "ExecuteTime": {
     "end_time": "2018-11-14T18:49:20.481853Z",
     "start_time": "2018-11-14T18:49:19.759554Z"
    }
   },
   "outputs": [
    {
     "name": "stdout",
     "output_type": "stream",
     "text": [
      "2018-11-14 18:49:20 UTC :: module_path = /home/obaskov/94/language-learning\n"
     ]
    }
   ],
   "source": [
    "import os, sys, time\n",
    "module_path = os.path.abspath(os.path.join('..'))\n",
    "if module_path not in sys.path: sys.path.append(module_path)\n",
    "from src.grammar_learner.utl import UTC\n",
    "from src.grammar_learner.read_files import check_dir\n",
    "from src.grammar_learner.write_files import list2file\n",
    "from src.grammar_learner.widgets import html_table\n",
    "from src.grammar_learner.pqa_table import table_rows, wide_rows\n",
    "tmpath = module_path + '/tmp/'\n",
    "check_dir(tmpath, True, 'none')\n",
    "table = []\n",
    "start = time.time()\n",
    "print(UTC(), ':: module_path =', module_path)"
   ]
  },
  {
   "cell_type": "markdown",
   "metadata": {},
   "source": [
    "## Corpus test settings"
   ]
  },
  {
   "cell_type": "code",
   "execution_count": 2,
   "metadata": {
    "ExecuteTime": {
     "end_time": "2018-11-14T18:49:20.490437Z",
     "start_time": "2018-11-14T18:49:20.483300Z"
    }
   },
   "outputs": [],
   "source": [
    "out_dir = module_path + '/output/Agglomerative-Clustering-' + str(UTC())[:10] + '_'\n",
    "corpus = 'CDS-caps-br-text+brent9mos'\n",
    "corpus = 'CDS-caps-br-text'\n",
    "dataset = 'LG-English'\n",
    "dataset = 'LG-English-clean-clean'  # 2018-10-29: only 100% parsed \n",
    "runs = (1,1)\n",
    "if runs != (1,1): out_dir += '-multi'\n",
    "kwargs = {\n",
    "    'left_wall'     :   ''          ,\n",
    "    'period'        :   False       ,\n",
    "    'context'       :   2           ,\n",
    "    'min_word_count':   1           ,\n",
    "    'min_link_count':   1           ,\n",
    "    'max_words'     :   100000      ,\n",
    "    'max_features'  :   100000      ,\n",
    "    'min_co-occurrence_count':  1   ,\n",
    "    'min_co-occurrence_frequency': 1e-9,\n",
    "    'word_space'    :   'sparse'    ,\n",
    "    'clustering'    :   ['agglomerative', 'ward'],\n",
    "    'cluster_range' :   200         ,\n",
    "    'clusterng_metric' : ['silhouette', 'cosine'],\n",
    "    'grammar_rules' :   2           ,   # disjuncts\n",
    "    'max_disjuncts' :   100000      ,\n",
    "    'tmpath'        :   tmpath      , \n",
    "    'verbose'       :   'min'       ,\n",
    "    'template_path' :   'poc-turtle',\n",
    "    'linkage_limit' :   1000        ,\n",
    "    'categories_generalization': 'off' }\n",
    "lines = [\n",
    "    [33, corpus , 'LG-English'                     ,0,0, 'none'  ], \n",
    "    [34, corpus , 'LG-English'                     ,0,0, 'rules' ]] \n",
    "#    [35, corpus , 'R=6-Weight=6:R-mst-weight=+1:R' ,0,0, 'none'  ], \n",
    "#    [36, corpus , 'R=6-Weight=6:R-mst-weight=+1:R' ,0,0, 'rules' ]]\n",
    "# rp = module_path + '/data/CDS-caps-br-text+brent9mos/LG-English'\n",
    "rp = module_path + '/data/CDS-caps-br-text/LG-English'  # shorter test 81025\n",
    "rp = module_path + '/data/CDS-caps-br-text/LG-English-clean-clean'\n",
    "cp = rp  # corpus path = reference_path :: use 'gold' parses as test corpus"
   ]
  },
  {
   "cell_type": "markdown",
   "metadata": {},
   "source": [
    "# Varying parameters: linkage, affinity, generalization, number of clusters"
   ]
  },
  {
   "cell_type": "markdown",
   "metadata": {},
   "source": [
    "## Linkage = \"ward\", affinity = \"euclidean\" (the only choice)"
   ]
  },
  {
   "cell_type": "code",
   "execution_count": 3,
   "metadata": {
    "ExecuteTime": {
     "end_time": "2018-11-14T18:49:40.039826Z",
     "start_time": "2018-11-14T18:49:20.491880Z"
    }
   },
   "outputs": [],
   "source": [
    "%%capture\n",
    "line = [lines[0]]\n",
    "a, _, header, log = wide_rows(lines, out_dir, cp, rp, runs, **kwargs)\n",
    "display(html_table([header] + a))"
   ]
  },
  {
   "cell_type": "code",
   "execution_count": 4,
   "metadata": {
    "ExecuteTime": {
     "end_time": "2018-11-14T18:49:40.045501Z",
     "start_time": "2018-11-14T18:49:40.041694Z"
    }
   },
   "outputs": [
    {
     "data": {
      "text/html": [
       "<table><tr><td>Line</td><td>Corpus</td><td>Parsing</td><td>Space</td><td>Linkage</td><td>Affinity</td><td>Gen.</td><td>Rules</td><td>SI</td><td>PA</td><td>PQ</td><td>F1</td><td>Top 5 cluster sizes</td></tr><tr><td>33</td><td>CDS-caps-br-text</td><td>LG-English</td><td>dALWEd</td><td>ward</td><td>euclidean</td><td>none</td><td>200</td><td> --- </td><td>99%</td><td>98%</td><td>0.98</td><td>[726, 44, 36, 30, 29]</td></tr><tr><td>34</td><td>CDS-caps-br-text</td><td>LG-English</td><td>dALWEd</td><td>ward</td><td>euclidean</td><td>rules</td><td>182</td><td> --- </td><td>99%</td><td>97%</td><td>0.97</td><td>[726, 44, 36, 30, 29]</td></tr></table>"
      ],
      "text/plain": [
       "<IPython.core.display.HTML object>"
      ]
     },
     "metadata": {},
     "output_type": "display_data"
    }
   ],
   "source": [
    "display(html_table([header] + a))"
   ]
  },
  {
   "cell_type": "markdown",
   "metadata": {},
   "source": [
    "## The same test with basic (not-cleaned) corpus"
   ]
  },
  {
   "cell_type": "code",
   "execution_count": 5,
   "metadata": {
    "ExecuteTime": {
     "end_time": "2018-11-14T18:50:00.025997Z",
     "start_time": "2018-11-14T18:49:40.046917Z"
    }
   },
   "outputs": [],
   "source": [
    "%%capture\n",
    "corpus = 'CDS-caps-br-text+brent9mos'\n",
    "a2, _, header, log = wide_rows(lines, out_dir, cp, rp, runs, **kwargs)\n",
    "corpus = 'CDS-caps-br-text'"
   ]
  },
  {
   "cell_type": "code",
   "execution_count": 6,
   "metadata": {
    "ExecuteTime": {
     "end_time": "2018-11-14T18:50:00.035701Z",
     "start_time": "2018-11-14T18:50:00.029916Z"
    }
   },
   "outputs": [
    {
     "data": {
      "text/html": [
       "<table><tr><td>Line</td><td>Corpus</td><td>Parsing</td><td>Space</td><td>Linkage</td><td>Affinity</td><td>Gen.</td><td>Rules</td><td>SI</td><td>PA</td><td>PQ</td><td>F1</td><td>Top 5 cluster sizes</td></tr><tr><td>33</td><td>CDS-caps-br-text</td><td>LG-English</td><td>dALWEd</td><td>ward</td><td>euclidean</td><td>none</td><td>200</td><td> --- </td><td>99%</td><td>98%</td><td>0.98</td><td>[726, 44, 36, 30, 29]</td></tr><tr><td>34</td><td>CDS-caps-br-text</td><td>LG-English</td><td>dALWEd</td><td>ward</td><td>euclidean</td><td>rules</td><td>182</td><td> --- </td><td>99%</td><td>97%</td><td>0.97</td><td>[726, 44, 36, 30, 29]</td></tr></table>"
      ],
      "text/plain": [
       "<IPython.core.display.HTML object>"
      ]
     },
     "metadata": {},
     "output_type": "display_data"
    }
   ],
   "source": [
    "display(html_table([header] + a2))"
   ]
  },
  {
   "cell_type": "markdown",
   "metadata": {},
   "source": [
    "## Varying linkage, affinity, rules generalization"
   ]
  },
  {
   "cell_type": "code",
   "execution_count": 7,
   "metadata": {
    "ExecuteTime": {
     "end_time": "2018-11-14T18:53:03.047004Z",
     "start_time": "2018-11-14T18:50:00.038533Z"
    },
    "scrolled": true
   },
   "outputs": [],
   "source": [
    "%%capture\n",
    "tbl = []\n",
    "n = 0\n",
    "for linkage in ['ward', 'complete', 'average']:\n",
    "    for affinity in ['euclidean', 'manhattan', 'cosine']:\n",
    "        if linkage == 'ward' and affinity != 'euclidean': continue\n",
    "        lines[0][0] = n*2 + 1\n",
    "        lines[1][0] = n*2 + 2\n",
    "        n += 1\n",
    "        kwargs['clustering'] = ['agglomerative', linkage, affinity]\n",
    "        a, _, header, log = wide_rows(lines, out_dir, cp, rp, runs, **kwargs)\n",
    "        tbl.extend(a)\n",
    "        table.extend(a)"
   ]
  },
  {
   "cell_type": "code",
   "execution_count": 8,
   "metadata": {
    "ExecuteTime": {
     "end_time": "2018-11-14T18:53:03.054005Z",
     "start_time": "2018-11-14T18:53:03.049367Z"
    }
   },
   "outputs": [
    {
     "data": {
      "text/html": [
       "<table><tr><td>Line</td><td>Corpus</td><td>Parsing</td><td>Space</td><td>Linkage</td><td>Affinity</td><td>Gen.</td><td>Rules</td><td>SI</td><td>PA</td><td>PQ</td><td>F1</td><td>Top 5 cluster sizes</td></tr><tr><td>1</td><td>CDS-caps-br-text</td><td>LG-English</td><td>dALWEd</td><td>ward</td><td>euclidean</td><td>none</td><td>200</td><td> --- </td><td>99%</td><td>98%</td><td>0.98</td><td>[726, 44, 36, 30, 29]</td></tr><tr><td>2</td><td>CDS-caps-br-text</td><td>LG-English</td><td>dALWEd</td><td>ward</td><td>euclidean</td><td>rules</td><td>182</td><td> --- </td><td>99%</td><td>97%</td><td>0.97</td><td>[726, 44, 36, 30, 29]</td></tr><tr><td>3</td><td>CDS-caps-br-text</td><td>LG-English</td><td>dALCEd</td><td>complete</td><td>euclidean</td><td>none</td><td>200</td><td> --- </td><td>99%</td><td>96%</td><td>0.97</td><td>[975, 19, 12, 4, 2]</td></tr><tr><td>4</td><td>CDS-caps-br-text</td><td>LG-English</td><td>dALCEd</td><td>complete</td><td>euclidean</td><td>rules</td><td>182</td><td> --- </td><td>99%</td><td>95%</td><td>0.96</td><td>[975, 19, 12, 4, 2]</td></tr><tr><td>5</td><td>CDS-caps-br-text</td><td>LG-English</td><td>dALCMd</td><td>complete</td><td>manhattan</td><td>none</td><td>200</td><td> --- </td><td>99%</td><td>96%</td><td>0.97</td><td>[975, 19, 12, 4, 2]</td></tr><tr><td>6</td><td>CDS-caps-br-text</td><td>LG-English</td><td>dALCMd</td><td>complete</td><td>manhattan</td><td>rules</td><td>182</td><td> --- </td><td>99%</td><td>95%</td><td>0.96</td><td>[975, 19, 12, 4, 2]</td></tr><tr><td>7</td><td>CDS-caps-br-text</td><td>LG-English</td><td>dALCCd</td><td>complete</td><td>cosine</td><td>none</td><td>200</td><td> --- </td><td>99%</td><td>80%</td><td>0.81</td><td>[637, 42, 38, 21, 15]</td></tr><tr><td>8</td><td>CDS-caps-br-text</td><td>LG-English</td><td>dALCCd</td><td>complete</td><td>cosine</td><td>rules</td><td>200</td><td> --- </td><td>99%</td><td>79%</td><td>0.81</td><td>[637, 42, 38, 21, 15]</td></tr><tr><td>9</td><td>CDS-caps-br-text</td><td>LG-English</td><td>dALAEd</td><td>average</td><td>euclidean</td><td>none</td><td>200</td><td> --- </td><td>99%</td><td>96%</td><td>0.96</td><td>[1023, 1]</td></tr><tr><td>10</td><td>CDS-caps-br-text</td><td>LG-English</td><td>dALAEd</td><td>average</td><td>euclidean</td><td>rules</td><td>177</td><td> --- </td><td>99%</td><td>94%</td><td>0.95</td><td>[1023, 1]</td></tr><tr><td>11</td><td>CDS-caps-br-text</td><td>LG-English</td><td>dALAMd</td><td>average</td><td>manhattan</td><td>none</td><td>200</td><td> --- </td><td>99%</td><td>96%</td><td>0.96</td><td>[1023, 1]</td></tr><tr><td>12</td><td>CDS-caps-br-text</td><td>LG-English</td><td>dALAMd</td><td>average</td><td>manhattan</td><td>rules</td><td>177</td><td> --- </td><td>99%</td><td>94%</td><td>0.95</td><td>[1023, 1]</td></tr><tr><td>13</td><td>CDS-caps-br-text</td><td>LG-English</td><td>dALACd</td><td>average</td><td>cosine</td><td>none</td><td>200</td><td> --- </td><td>99%</td><td>72%</td><td>0.73</td><td>[1009, 13, 2, 1]</td></tr><tr><td>14</td><td>CDS-caps-br-text</td><td>LG-English</td><td>dALACd</td><td>average</td><td>cosine</td><td>rules</td><td>200</td><td> --- </td><td>99%</td><td>72%</td><td>0.73</td><td>[1009, 13, 2, 1]</td></tr></table>"
      ],
      "text/plain": [
       "<IPython.core.display.HTML object>"
      ]
     },
     "metadata": {},
     "output_type": "display_data"
    }
   ],
   "source": [
    "display(html_table([header] + table))"
   ]
  },
  {
   "cell_type": "markdown",
   "metadata": {},
   "source": [
    "## \"Single\" linkage setting: clustering fails"
   ]
  },
  {
   "cell_type": "code",
   "execution_count": 9,
   "metadata": {
    "ExecuteTime": {
     "end_time": "2018-11-14T18:53:05.112228Z",
     "start_time": "2018-11-14T18:53:03.056172Z"
    }
   },
   "outputs": [],
   "source": [
    "%%capture\n",
    "n = 0\n",
    "t2 = []\n",
    "for linkage in ['single']:\n",
    "    for affinity in ['euclidean', 'manhattan', 'cosine']:\n",
    "        if linkage == 'ward' and affinity != 'euclidean': continue\n",
    "        line[0][0] = n + 1\n",
    "        n += 1\n",
    "        kwargs['clustering'] = ['agglomerative', linkage, affinity]\n",
    "        a, _, header, log = wide_rows(line, out_dir, cp, rp, runs, **kwargs)\n",
    "        t2.extend(a)\n",
    "        table.extend(a)"
   ]
  },
  {
   "cell_type": "code",
   "execution_count": 10,
   "metadata": {
    "ExecuteTime": {
     "end_time": "2018-11-14T18:53:05.118275Z",
     "start_time": "2018-11-14T18:53:05.114151Z"
    }
   },
   "outputs": [
    {
     "data": {
      "text/html": [
       "<table><tr><td>Line</td><td>Corpus</td><td>Parsing</td><td>Space</td><td>Linkage</td><td>Affinity</td><td>Gen.</td><td>Rules</td><td>SI</td><td>PA</td><td>PQ</td><td>F1</td><td>Top 5 cluster sizes</td></tr><tr><td>1</td><td>CDS-caps-br-text</td><td>LG-English</td><td>dALSEd</td><td>single</td><td>euclidean</td><td>none</td><td>fail</td><td> --- </td><td>0%</td><td>0%</td><td> --- </td><td>[]</td></tr><tr><td>2</td><td>CDS-caps-br-text</td><td>LG-English</td><td>dALSMd</td><td>single</td><td>manhattan</td><td>none</td><td>fail</td><td> --- </td><td>0%</td><td>0%</td><td> --- </td><td>[]</td></tr><tr><td>3</td><td>CDS-caps-br-text</td><td>LG-English</td><td>dALSCd</td><td>single</td><td>cosine</td><td>none</td><td>fail</td><td> --- </td><td>0%</td><td>0%</td><td> --- </td><td>[]</td></tr></table>"
      ],
      "text/plain": [
       "<IPython.core.display.HTML object>"
      ]
     },
     "metadata": {},
     "output_type": "display_data"
    }
   ],
   "source": [
    "display(html_table([header] + t2))"
   ]
  },
  {
   "cell_type": "markdown",
   "metadata": {},
   "source": [
    "## Varying number of clusters"
   ]
  },
  {
   "cell_type": "code",
   "execution_count": 11,
   "metadata": {
    "ExecuteTime": {
     "end_time": "2018-11-14T19:00:37.960748Z",
     "start_time": "2018-11-14T18:53:05.120424Z"
    }
   },
   "outputs": [],
   "source": [
    "%%capture\n",
    "n = 0\n",
    "t3 = []\n",
    "for linkage in ['ward', 'complete', 'average']:\n",
    "    for affinity in ['euclidean', 'manhattan', 'cosine']:\n",
    "        if linkage == 'ward' and affinity != 'euclidean': continue\n",
    "        print('AL' + linkage[0] + affinity[0])\n",
    "        line[0][0] = n + 1\n",
    "        n += 1\n",
    "        for kwargs['cluster_range'] in range(100,501,100):\n",
    "            kwargs['clustering'] = ['agglomerative', linkage, affinity]\n",
    "            a, _, header, log = wide_rows(line, out_dir, cp, rp, runs, **kwargs)\n",
    "            t3.extend(a)\n",
    "            table.extend(a)"
   ]
  },
  {
   "cell_type": "code",
   "execution_count": 12,
   "metadata": {
    "ExecuteTime": {
     "end_time": "2018-11-14T19:00:37.971708Z",
     "start_time": "2018-11-14T19:00:37.964753Z"
    },
    "scrolled": true
   },
   "outputs": [
    {
     "data": {
      "text/html": [
       "<table><tr><td>Line</td><td>Corpus</td><td>Parsing</td><td>Space</td><td>Linkage</td><td>Affinity</td><td>Gen.</td><td>Rules</td><td>SI</td><td>PA</td><td>PQ</td><td>F1</td><td>Top 5 cluster sizes</td></tr><tr><td>1</td><td>CDS-caps-br-text</td><td>LG-English</td><td>dALWEd</td><td>ward</td><td>euclidean</td><td>none</td><td>100</td><td> --- </td><td>99%</td><td>96%</td><td>0.97</td><td>[859, 94, 54, 39, 30]</td></tr><tr><td>1</td><td>CDS-caps-br-text</td><td>LG-English</td><td>dALWEd</td><td>ward</td><td>euclidean</td><td>none</td><td>200</td><td> --- </td><td>99%</td><td>98%</td><td>0.98</td><td>[726, 44, 36, 30, 29]</td></tr><tr><td>1</td><td>CDS-caps-br-text</td><td>LG-English</td><td>dALWEd</td><td>ward</td><td>euclidean</td><td>none</td><td>300</td><td> --- </td><td>99%</td><td>98%</td><td>0.98</td><td>[566, 41, 23, 22, 19]</td></tr><tr><td>1</td><td>CDS-caps-br-text</td><td>LG-English</td><td>dALWEd</td><td>ward</td><td>euclidean</td><td>none</td><td>400</td><td> --- </td><td>99%</td><td>97%</td><td>0.98</td><td>[484, 39, 23, 13, 12]</td></tr><tr><td>1</td><td>CDS-caps-br-text</td><td>LG-English</td><td>dALWEd</td><td>ward</td><td>euclidean</td><td>none</td><td>500</td><td> --- </td><td>99%</td><td>98%</td><td>0.98</td><td>[408, 29, 20, 12, 11]</td></tr><tr><td>2</td><td>CDS-caps-br-text</td><td>LG-English</td><td>dALCEd</td><td>complete</td><td>euclidean</td><td>none</td><td>100</td><td> --- </td><td>99%</td><td>94%</td><td>0.94</td><td>[1079, 30, 5, 4, 3]</td></tr><tr><td>2</td><td>CDS-caps-br-text</td><td>LG-English</td><td>dALCEd</td><td>complete</td><td>euclidean</td><td>none</td><td>200</td><td> --- </td><td>99%</td><td>96%</td><td>0.97</td><td>[975, 19, 12, 4, 2]</td></tr><tr><td>2</td><td>CDS-caps-br-text</td><td>LG-English</td><td>dALCEd</td><td>complete</td><td>euclidean</td><td>none</td><td>300</td><td> --- </td><td>99%</td><td>96%</td><td>0.97</td><td>[807, 38, 29, 18, 14]</td></tr><tr><td>2</td><td>CDS-caps-br-text</td><td>LG-English</td><td>dALCEd</td><td>complete</td><td>euclidean</td><td>none</td><td>400</td><td> --- </td><td>99%</td><td>96%</td><td>0.97</td><td>[698, 25, 16, 15, 14]</td></tr><tr><td>2</td><td>CDS-caps-br-text</td><td>LG-English</td><td>dALCEd</td><td>complete</td><td>euclidean</td><td>none</td><td>500</td><td> --- </td><td>99%</td><td>96%</td><td>0.97</td><td>[498, 89, 13, 12, 11]</td></tr><tr><td>3</td><td>CDS-caps-br-text</td><td>LG-English</td><td>dALCMd</td><td>complete</td><td>manhattan</td><td>none</td><td>100</td><td> --- </td><td>99%</td><td>94%</td><td>0.94</td><td>[1079, 30, 5, 4, 3]</td></tr><tr><td>3</td><td>CDS-caps-br-text</td><td>LG-English</td><td>dALCMd</td><td>complete</td><td>manhattan</td><td>none</td><td>200</td><td> --- </td><td>99%</td><td>96%</td><td>0.97</td><td>[975, 19, 12, 4, 2]</td></tr><tr><td>3</td><td>CDS-caps-br-text</td><td>LG-English</td><td>dALCMd</td><td>complete</td><td>manhattan</td><td>none</td><td>300</td><td> --- </td><td>99%</td><td>96%</td><td>0.97</td><td>[807, 38, 29, 18, 14]</td></tr><tr><td>3</td><td>CDS-caps-br-text</td><td>LG-English</td><td>dALCMd</td><td>complete</td><td>manhattan</td><td>none</td><td>400</td><td> --- </td><td>99%</td><td>96%</td><td>0.97</td><td>[698, 25, 16, 15, 14]</td></tr><tr><td>3</td><td>CDS-caps-br-text</td><td>LG-English</td><td>dALCMd</td><td>complete</td><td>manhattan</td><td>none</td><td>500</td><td> --- </td><td>99%</td><td>96%</td><td>0.97</td><td>[498, 89, 13, 12, 11]</td></tr><tr><td>4</td><td>CDS-caps-br-text</td><td>LG-English</td><td>dALCCd</td><td>complete</td><td>cosine</td><td>none</td><td>100</td><td> --- </td><td>99%</td><td>75%</td><td>0.76</td><td>[935, 38, 15, 13, 11]</td></tr><tr><td>4</td><td>CDS-caps-br-text</td><td>LG-English</td><td>dALCCd</td><td>complete</td><td>cosine</td><td>none</td><td>200</td><td> --- </td><td>99%</td><td>80%</td><td>0.81</td><td>[637, 42, 38, 21, 15]</td></tr><tr><td>4</td><td>CDS-caps-br-text</td><td>LG-English</td><td>dALCCd</td><td>complete</td><td>cosine</td><td>none</td><td>300</td><td> --- </td><td>99%</td><td>86%</td><td>0.87</td><td>[403, 42, 38, 28, 21]</td></tr><tr><td>4</td><td>CDS-caps-br-text</td><td>LG-English</td><td>dALCCd</td><td>complete</td><td>cosine</td><td>none</td><td>400</td><td> --- </td><td>99%</td><td>91%</td><td>0.92</td><td>[217, 42, 38, 28, 21]</td></tr><tr><td>4</td><td>CDS-caps-br-text</td><td>LG-English</td><td>dALCCd</td><td>complete</td><td>cosine</td><td>none</td><td>500</td><td> --- </td><td>99%</td><td>95%</td><td>0.96</td><td>[50, 42, 38, 28, 21]</td></tr><tr><td>5</td><td>CDS-caps-br-text</td><td>LG-English</td><td>dALAEd</td><td>average</td><td>euclidean</td><td>none</td><td>100</td><td> --- </td><td>99%</td><td>92%</td><td>0.93</td><td>[1123, 1]</td></tr><tr><td>5</td><td>CDS-caps-br-text</td><td>LG-English</td><td>dALAEd</td><td>average</td><td>euclidean</td><td>none</td><td>200</td><td> --- </td><td>99%</td><td>96%</td><td>0.96</td><td>[1023, 1]</td></tr><tr><td>5</td><td>CDS-caps-br-text</td><td>LG-English</td><td>dALAEd</td><td>average</td><td>euclidean</td><td>none</td><td>300</td><td> --- </td><td>99%</td><td>96%</td><td>0.97</td><td>[921, 2, 1]</td></tr><tr><td>5</td><td>CDS-caps-br-text</td><td>LG-English</td><td>dALAEd</td><td>average</td><td>euclidean</td><td>none</td><td>400</td><td> --- </td><td>99%</td><td>96%</td><td>0.97</td><td>[822, 2, 1]</td></tr><tr><td>5</td><td>CDS-caps-br-text</td><td>LG-English</td><td>dALAEd</td><td>average</td><td>euclidean</td><td>none</td><td>500</td><td> --- </td><td>99%</td><td>96%</td><td>0.97</td><td>[713, 4, 3, 2, 1]</td></tr><tr><td>6</td><td>CDS-caps-br-text</td><td>LG-English</td><td>dALAMd</td><td>average</td><td>manhattan</td><td>none</td><td>100</td><td> --- </td><td>99%</td><td>92%</td><td>0.93</td><td>[1123, 1]</td></tr><tr><td>6</td><td>CDS-caps-br-text</td><td>LG-English</td><td>dALAMd</td><td>average</td><td>manhattan</td><td>none</td><td>200</td><td> --- </td><td>99%</td><td>96%</td><td>0.96</td><td>[1023, 1]</td></tr><tr><td>6</td><td>CDS-caps-br-text</td><td>LG-English</td><td>dALAMd</td><td>average</td><td>manhattan</td><td>none</td><td>300</td><td> --- </td><td>99%</td><td>96%</td><td>0.97</td><td>[921, 2, 1]</td></tr><tr><td>6</td><td>CDS-caps-br-text</td><td>LG-English</td><td>dALAMd</td><td>average</td><td>manhattan</td><td>none</td><td>400</td><td> --- </td><td>99%</td><td>96%</td><td>0.97</td><td>[822, 2, 1]</td></tr><tr><td>6</td><td>CDS-caps-br-text</td><td>LG-English</td><td>dALAMd</td><td>average</td><td>manhattan</td><td>none</td><td>500</td><td> --- </td><td>99%</td><td>96%</td><td>0.97</td><td>[712, 4, 3, 2, 1]</td></tr><tr><td>7</td><td>CDS-caps-br-text</td><td>LG-English</td><td>dALACd</td><td>average</td><td>cosine</td><td>none</td><td>100</td><td> --- </td><td>99%</td><td>72%</td><td>0.72</td><td>[1009, 114, 2, 1]</td></tr><tr><td>7</td><td>CDS-caps-br-text</td><td>LG-English</td><td>dALACd</td><td>average</td><td>cosine</td><td>none</td><td>200</td><td> --- </td><td>99%</td><td>72%</td><td>0.73</td><td>[1009, 13, 2, 1]</td></tr><tr><td>7</td><td>CDS-caps-br-text</td><td>LG-English</td><td>dALACd</td><td>average</td><td>cosine</td><td>none</td><td>300</td><td> --- </td><td>99%</td><td>78%</td><td>0.79</td><td>[394, 243, 48, 41, 25]</td></tr><tr><td>7</td><td>CDS-caps-br-text</td><td>LG-English</td><td>dALACd</td><td>average</td><td>cosine</td><td>none</td><td>400</td><td> --- </td><td>99%</td><td>96%</td><td>0.96</td><td>[117, 115, 41, 34, 24]</td></tr><tr><td>7</td><td>CDS-caps-br-text</td><td>LG-English</td><td>dALACd</td><td>average</td><td>cosine</td><td>none</td><td>500</td><td> --- </td><td>99%</td><td>97%</td><td>0.97</td><td>[82, 69, 24, 23, 19]</td></tr></table>"
      ],
      "text/plain": [
       "<IPython.core.display.HTML object>"
      ]
     },
     "metadata": {},
     "output_type": "display_data"
    }
   ],
   "source": [
    "display(html_table([header] + t3))"
   ]
  },
  {
   "cell_type": "markdown",
   "metadata": {},
   "source": [
    "# All tests"
   ]
  },
  {
   "cell_type": "code",
   "execution_count": 13,
   "metadata": {
    "ExecuteTime": {
     "end_time": "2018-11-14T19:00:38.081265Z",
     "start_time": "2018-11-14T19:00:37.974753Z"
    }
   },
   "outputs": [
    {
     "data": {
      "text/html": [
       "<table><tr><td>Line</td><td>Corpus</td><td>Parsing</td><td>Space</td><td>Linkage</td><td>Affinity</td><td>Gen.</td><td>Rules</td><td>SI</td><td>PA</td><td>PQ</td><td>F1</td><td>Top 5 cluster sizes</td></tr><tr><td>1</td><td>CDS-caps-br-text</td><td>LG-English</td><td>dALWEd</td><td>ward</td><td>euclidean</td><td>none</td><td>200</td><td> --- </td><td>99%</td><td>98%</td><td>0.98</td><td>[726, 44, 36, 30, 29]</td></tr><tr><td>2</td><td>CDS-caps-br-text</td><td>LG-English</td><td>dALWEd</td><td>ward</td><td>euclidean</td><td>rules</td><td>182</td><td> --- </td><td>99%</td><td>97%</td><td>0.97</td><td>[726, 44, 36, 30, 29]</td></tr><tr><td>3</td><td>CDS-caps-br-text</td><td>LG-English</td><td>dALCEd</td><td>complete</td><td>euclidean</td><td>none</td><td>200</td><td> --- </td><td>99%</td><td>96%</td><td>0.97</td><td>[975, 19, 12, 4, 2]</td></tr><tr><td>4</td><td>CDS-caps-br-text</td><td>LG-English</td><td>dALCEd</td><td>complete</td><td>euclidean</td><td>rules</td><td>182</td><td> --- </td><td>99%</td><td>95%</td><td>0.96</td><td>[975, 19, 12, 4, 2]</td></tr><tr><td>5</td><td>CDS-caps-br-text</td><td>LG-English</td><td>dALCMd</td><td>complete</td><td>manhattan</td><td>none</td><td>200</td><td> --- </td><td>99%</td><td>96%</td><td>0.97</td><td>[975, 19, 12, 4, 2]</td></tr><tr><td>6</td><td>CDS-caps-br-text</td><td>LG-English</td><td>dALCMd</td><td>complete</td><td>manhattan</td><td>rules</td><td>182</td><td> --- </td><td>99%</td><td>95%</td><td>0.96</td><td>[975, 19, 12, 4, 2]</td></tr><tr><td>7</td><td>CDS-caps-br-text</td><td>LG-English</td><td>dALCCd</td><td>complete</td><td>cosine</td><td>none</td><td>200</td><td> --- </td><td>99%</td><td>80%</td><td>0.81</td><td>[637, 42, 38, 21, 15]</td></tr><tr><td>8</td><td>CDS-caps-br-text</td><td>LG-English</td><td>dALCCd</td><td>complete</td><td>cosine</td><td>rules</td><td>200</td><td> --- </td><td>99%</td><td>79%</td><td>0.81</td><td>[637, 42, 38, 21, 15]</td></tr><tr><td>9</td><td>CDS-caps-br-text</td><td>LG-English</td><td>dALAEd</td><td>average</td><td>euclidean</td><td>none</td><td>200</td><td> --- </td><td>99%</td><td>96%</td><td>0.96</td><td>[1023, 1]</td></tr><tr><td>10</td><td>CDS-caps-br-text</td><td>LG-English</td><td>dALAEd</td><td>average</td><td>euclidean</td><td>rules</td><td>177</td><td> --- </td><td>99%</td><td>94%</td><td>0.95</td><td>[1023, 1]</td></tr><tr><td>11</td><td>CDS-caps-br-text</td><td>LG-English</td><td>dALAMd</td><td>average</td><td>manhattan</td><td>none</td><td>200</td><td> --- </td><td>99%</td><td>96%</td><td>0.96</td><td>[1023, 1]</td></tr><tr><td>12</td><td>CDS-caps-br-text</td><td>LG-English</td><td>dALAMd</td><td>average</td><td>manhattan</td><td>rules</td><td>177</td><td> --- </td><td>99%</td><td>94%</td><td>0.95</td><td>[1023, 1]</td></tr><tr><td>13</td><td>CDS-caps-br-text</td><td>LG-English</td><td>dALACd</td><td>average</td><td>cosine</td><td>none</td><td>200</td><td> --- </td><td>99%</td><td>72%</td><td>0.73</td><td>[1009, 13, 2, 1]</td></tr><tr><td>14</td><td>CDS-caps-br-text</td><td>LG-English</td><td>dALACd</td><td>average</td><td>cosine</td><td>rules</td><td>200</td><td> --- </td><td>99%</td><td>72%</td><td>0.73</td><td>[1009, 13, 2, 1]</td></tr><tr><td>1</td><td>CDS-caps-br-text</td><td>LG-English</td><td>dALSEd</td><td>single</td><td>euclidean</td><td>none</td><td>fail</td><td> --- </td><td>0%</td><td>0%</td><td> --- </td><td>[]</td></tr><tr><td>2</td><td>CDS-caps-br-text</td><td>LG-English</td><td>dALSMd</td><td>single</td><td>manhattan</td><td>none</td><td>fail</td><td> --- </td><td>0%</td><td>0%</td><td> --- </td><td>[]</td></tr><tr><td>3</td><td>CDS-caps-br-text</td><td>LG-English</td><td>dALSCd</td><td>single</td><td>cosine</td><td>none</td><td>fail</td><td> --- </td><td>0%</td><td>0%</td><td> --- </td><td>[]</td></tr><tr><td>1</td><td>CDS-caps-br-text</td><td>LG-English</td><td>dALWEd</td><td>ward</td><td>euclidean</td><td>none</td><td>100</td><td> --- </td><td>99%</td><td>96%</td><td>0.97</td><td>[859, 94, 54, 39, 30]</td></tr><tr><td>1</td><td>CDS-caps-br-text</td><td>LG-English</td><td>dALWEd</td><td>ward</td><td>euclidean</td><td>none</td><td>200</td><td> --- </td><td>99%</td><td>98%</td><td>0.98</td><td>[726, 44, 36, 30, 29]</td></tr><tr><td>1</td><td>CDS-caps-br-text</td><td>LG-English</td><td>dALWEd</td><td>ward</td><td>euclidean</td><td>none</td><td>300</td><td> --- </td><td>99%</td><td>98%</td><td>0.98</td><td>[566, 41, 23, 22, 19]</td></tr><tr><td>1</td><td>CDS-caps-br-text</td><td>LG-English</td><td>dALWEd</td><td>ward</td><td>euclidean</td><td>none</td><td>400</td><td> --- </td><td>99%</td><td>97%</td><td>0.98</td><td>[484, 39, 23, 13, 12]</td></tr><tr><td>1</td><td>CDS-caps-br-text</td><td>LG-English</td><td>dALWEd</td><td>ward</td><td>euclidean</td><td>none</td><td>500</td><td> --- </td><td>99%</td><td>98%</td><td>0.98</td><td>[408, 29, 20, 12, 11]</td></tr><tr><td>2</td><td>CDS-caps-br-text</td><td>LG-English</td><td>dALCEd</td><td>complete</td><td>euclidean</td><td>none</td><td>100</td><td> --- </td><td>99%</td><td>94%</td><td>0.94</td><td>[1079, 30, 5, 4, 3]</td></tr><tr><td>2</td><td>CDS-caps-br-text</td><td>LG-English</td><td>dALCEd</td><td>complete</td><td>euclidean</td><td>none</td><td>200</td><td> --- </td><td>99%</td><td>96%</td><td>0.97</td><td>[975, 19, 12, 4, 2]</td></tr><tr><td>2</td><td>CDS-caps-br-text</td><td>LG-English</td><td>dALCEd</td><td>complete</td><td>euclidean</td><td>none</td><td>300</td><td> --- </td><td>99%</td><td>96%</td><td>0.97</td><td>[807, 38, 29, 18, 14]</td></tr><tr><td>2</td><td>CDS-caps-br-text</td><td>LG-English</td><td>dALCEd</td><td>complete</td><td>euclidean</td><td>none</td><td>400</td><td> --- </td><td>99%</td><td>96%</td><td>0.97</td><td>[698, 25, 16, 15, 14]</td></tr><tr><td>2</td><td>CDS-caps-br-text</td><td>LG-English</td><td>dALCEd</td><td>complete</td><td>euclidean</td><td>none</td><td>500</td><td> --- </td><td>99%</td><td>96%</td><td>0.97</td><td>[498, 89, 13, 12, 11]</td></tr><tr><td>3</td><td>CDS-caps-br-text</td><td>LG-English</td><td>dALCMd</td><td>complete</td><td>manhattan</td><td>none</td><td>100</td><td> --- </td><td>99%</td><td>94%</td><td>0.94</td><td>[1079, 30, 5, 4, 3]</td></tr><tr><td>3</td><td>CDS-caps-br-text</td><td>LG-English</td><td>dALCMd</td><td>complete</td><td>manhattan</td><td>none</td><td>200</td><td> --- </td><td>99%</td><td>96%</td><td>0.97</td><td>[975, 19, 12, 4, 2]</td></tr><tr><td>3</td><td>CDS-caps-br-text</td><td>LG-English</td><td>dALCMd</td><td>complete</td><td>manhattan</td><td>none</td><td>300</td><td> --- </td><td>99%</td><td>96%</td><td>0.97</td><td>[807, 38, 29, 18, 14]</td></tr><tr><td>3</td><td>CDS-caps-br-text</td><td>LG-English</td><td>dALCMd</td><td>complete</td><td>manhattan</td><td>none</td><td>400</td><td> --- </td><td>99%</td><td>96%</td><td>0.97</td><td>[698, 25, 16, 15, 14]</td></tr><tr><td>3</td><td>CDS-caps-br-text</td><td>LG-English</td><td>dALCMd</td><td>complete</td><td>manhattan</td><td>none</td><td>500</td><td> --- </td><td>99%</td><td>96%</td><td>0.97</td><td>[498, 89, 13, 12, 11]</td></tr><tr><td>4</td><td>CDS-caps-br-text</td><td>LG-English</td><td>dALCCd</td><td>complete</td><td>cosine</td><td>none</td><td>100</td><td> --- </td><td>99%</td><td>75%</td><td>0.76</td><td>[935, 38, 15, 13, 11]</td></tr><tr><td>4</td><td>CDS-caps-br-text</td><td>LG-English</td><td>dALCCd</td><td>complete</td><td>cosine</td><td>none</td><td>200</td><td> --- </td><td>99%</td><td>80%</td><td>0.81</td><td>[637, 42, 38, 21, 15]</td></tr><tr><td>4</td><td>CDS-caps-br-text</td><td>LG-English</td><td>dALCCd</td><td>complete</td><td>cosine</td><td>none</td><td>300</td><td> --- </td><td>99%</td><td>86%</td><td>0.87</td><td>[403, 42, 38, 28, 21]</td></tr><tr><td>4</td><td>CDS-caps-br-text</td><td>LG-English</td><td>dALCCd</td><td>complete</td><td>cosine</td><td>none</td><td>400</td><td> --- </td><td>99%</td><td>91%</td><td>0.92</td><td>[217, 42, 38, 28, 21]</td></tr><tr><td>4</td><td>CDS-caps-br-text</td><td>LG-English</td><td>dALCCd</td><td>complete</td><td>cosine</td><td>none</td><td>500</td><td> --- </td><td>99%</td><td>95%</td><td>0.96</td><td>[50, 42, 38, 28, 21]</td></tr><tr><td>5</td><td>CDS-caps-br-text</td><td>LG-English</td><td>dALAEd</td><td>average</td><td>euclidean</td><td>none</td><td>100</td><td> --- </td><td>99%</td><td>92%</td><td>0.93</td><td>[1123, 1]</td></tr><tr><td>5</td><td>CDS-caps-br-text</td><td>LG-English</td><td>dALAEd</td><td>average</td><td>euclidean</td><td>none</td><td>200</td><td> --- </td><td>99%</td><td>96%</td><td>0.96</td><td>[1023, 1]</td></tr><tr><td>5</td><td>CDS-caps-br-text</td><td>LG-English</td><td>dALAEd</td><td>average</td><td>euclidean</td><td>none</td><td>300</td><td> --- </td><td>99%</td><td>96%</td><td>0.97</td><td>[921, 2, 1]</td></tr><tr><td>5</td><td>CDS-caps-br-text</td><td>LG-English</td><td>dALAEd</td><td>average</td><td>euclidean</td><td>none</td><td>400</td><td> --- </td><td>99%</td><td>96%</td><td>0.97</td><td>[822, 2, 1]</td></tr><tr><td>5</td><td>CDS-caps-br-text</td><td>LG-English</td><td>dALAEd</td><td>average</td><td>euclidean</td><td>none</td><td>500</td><td> --- </td><td>99%</td><td>96%</td><td>0.97</td><td>[713, 4, 3, 2, 1]</td></tr><tr><td>6</td><td>CDS-caps-br-text</td><td>LG-English</td><td>dALAMd</td><td>average</td><td>manhattan</td><td>none</td><td>100</td><td> --- </td><td>99%</td><td>92%</td><td>0.93</td><td>[1123, 1]</td></tr><tr><td>6</td><td>CDS-caps-br-text</td><td>LG-English</td><td>dALAMd</td><td>average</td><td>manhattan</td><td>none</td><td>200</td><td> --- </td><td>99%</td><td>96%</td><td>0.96</td><td>[1023, 1]</td></tr><tr><td>6</td><td>CDS-caps-br-text</td><td>LG-English</td><td>dALAMd</td><td>average</td><td>manhattan</td><td>none</td><td>300</td><td> --- </td><td>99%</td><td>96%</td><td>0.97</td><td>[921, 2, 1]</td></tr><tr><td>6</td><td>CDS-caps-br-text</td><td>LG-English</td><td>dALAMd</td><td>average</td><td>manhattan</td><td>none</td><td>400</td><td> --- </td><td>99%</td><td>96%</td><td>0.97</td><td>[822, 2, 1]</td></tr><tr><td>6</td><td>CDS-caps-br-text</td><td>LG-English</td><td>dALAMd</td><td>average</td><td>manhattan</td><td>none</td><td>500</td><td> --- </td><td>99%</td><td>96%</td><td>0.97</td><td>[712, 4, 3, 2, 1]</td></tr><tr><td>7</td><td>CDS-caps-br-text</td><td>LG-English</td><td>dALACd</td><td>average</td><td>cosine</td><td>none</td><td>100</td><td> --- </td><td>99%</td><td>72%</td><td>0.72</td><td>[1009, 114, 2, 1]</td></tr><tr><td>7</td><td>CDS-caps-br-text</td><td>LG-English</td><td>dALACd</td><td>average</td><td>cosine</td><td>none</td><td>200</td><td> --- </td><td>99%</td><td>72%</td><td>0.73</td><td>[1009, 13, 2, 1]</td></tr><tr><td>7</td><td>CDS-caps-br-text</td><td>LG-English</td><td>dALACd</td><td>average</td><td>cosine</td><td>none</td><td>300</td><td> --- </td><td>99%</td><td>78%</td><td>0.79</td><td>[394, 243, 48, 41, 25]</td></tr><tr><td>7</td><td>CDS-caps-br-text</td><td>LG-English</td><td>dALACd</td><td>average</td><td>cosine</td><td>none</td><td>400</td><td> --- </td><td>99%</td><td>96%</td><td>0.96</td><td>[117, 115, 41, 34, 24]</td></tr><tr><td>7</td><td>CDS-caps-br-text</td><td>LG-English</td><td>dALACd</td><td>average</td><td>cosine</td><td>none</td><td>500</td><td> --- </td><td>99%</td><td>97%</td><td>0.97</td><td>[82, 69, 24, 23, 19]</td></tr></table>"
      ],
      "text/plain": [
       "<IPython.core.display.HTML object>"
      ]
     },
     "metadata": {},
     "output_type": "display_data"
    }
   ],
   "source": [
    "display(html_table([header] + table))"
   ]
  },
  {
   "cell_type": "code",
   "execution_count": 14,
   "metadata": {
    "ExecuteTime": {
     "end_time": "2018-11-14T19:00:38.150281Z",
     "start_time": "2018-11-14T19:00:38.084784Z"
    }
   },
   "outputs": [
    {
     "name": "stdout",
     "output_type": "stream",
     "text": [
      "2018-11-14 19:00:38 UTC :: finished, elapsed 0.2 hours\n",
      "Results saved to /home/obaskov/94/language-learning/output/Agglomerative-Clustering-2018-11-14_/table.txt\n"
     ]
    }
   ],
   "source": [
    "print(UTC(), ':: finished, elapsed', str(round((time.time()-start)/3600.0, 1)), 'hours')\n",
    "table_str = list2file(table, out_dir + '/table.txt')\n",
    "print('Results saved to', out_dir + '/table.txt')"
   ]
  },
  {
   "cell_type": "code",
   "execution_count": null,
   "metadata": {},
   "outputs": [],
   "source": []
  }
 ],
 "metadata": {
  "kernelspec": {
   "display_name": "Python [default]",
   "language": "python",
   "name": "python3"
  },
  "language_info": {
   "codemirror_mode": {
    "name": "ipython",
    "version": 3
   },
   "file_extension": ".py",
   "mimetype": "text/x-python",
   "name": "python",
   "nbconvert_exporter": "python",
   "pygments_lexer": "ipython3",
   "version": "3.6.6"
  },
  "toc": {
   "base_numbering": 1,
   "nav_menu": {},
   "number_sections": true,
   "sideBar": true,
   "skip_h1_title": false,
   "title_cell": "Table of Contents",
   "title_sidebar": "Contents",
   "toc_cell": false,
   "toc_position": {},
   "toc_section_display": true,
   "toc_window_display": false
  }
 },
 "nbformat": 4,
 "nbformat_minor": 2
}
