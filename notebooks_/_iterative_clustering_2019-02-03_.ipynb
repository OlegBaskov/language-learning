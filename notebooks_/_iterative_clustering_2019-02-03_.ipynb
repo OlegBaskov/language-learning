{
 "cells": [
  {
   "cell_type": "markdown",
   "metadata": {
    "toc": true
   },
   "source": [
    "<h1>Table of Contents<span class=\"tocSkip\"></span></h1>\n",
    "<div class=\"toc\"><ul class=\"toc-item\"><li><span><a href=\"#Settings\" data-toc-modified-id=\"Settings-1\"><span class=\"toc-item-num\">1&nbsp;&nbsp;</span>Settings</a></span></li><li><span><a href=\"#Tests:-&quot;POC-English&quot;-corpus,-&quot;MST-fixed&quot;-dateset\" data-toc-modified-id=\"Tests:-&quot;POC-English&quot;-corpus,-&quot;MST-fixed&quot;-dateset-2\"><span class=\"toc-item-num\">2&nbsp;&nbsp;</span>Tests: \"POC-English\" corpus, \"MST-fixed\" dateset</a></span><ul class=\"toc-item\"><li><span><a href=\"#Connectors-DRK-Connectors\" data-toc-modified-id=\"Connectors-DRK-Connectors-2.1\"><span class=\"toc-item-num\">2.1&nbsp;&nbsp;</span>Connectors-DRK-Connectors</a></span></li><li><span><a href=\"#Connectors-DRK-Disjuncts\" data-toc-modified-id=\"Connectors-DRK-Disjuncts-2.2\"><span class=\"toc-item-num\">2.2&nbsp;&nbsp;</span>Connectors-DRK-Disjuncts</a></span></li><li><span><a href=\"#Disjuncts-DRK-Disjuncts\" data-toc-modified-id=\"Disjuncts-DRK-Disjuncts-2.3\"><span class=\"toc-item-num\">2.3&nbsp;&nbsp;</span>Disjuncts-DRK-Disjuncts</a></span></li><li><span><a href=\"#Disjuncts-ILE-Disjuncts\" data-toc-modified-id=\"Disjuncts-ILE-Disjuncts-2.4\"><span class=\"toc-item-num\">2.4&nbsp;&nbsp;</span>Disjuncts-ILE-Disjuncts</a></span></li><li><span><a href=\"#Disjuncts-ALE-Disjuncts\" data-toc-modified-id=\"Disjuncts-ALE-Disjuncts-2.5\"><span class=\"toc-item-num\">2.5&nbsp;&nbsp;</span>Disjuncts-ALE-Disjuncts</a></span></li></ul></li></ul></div>"
   ]
  },
  {
   "cell_type": "markdown",
   "metadata": {},
   "source": [
    "# Iterative Clustering `2018-02-03`: intermediate\n",
    "First tests of **unstable** iterative clustering **prototype**.  \n",
    "This notebook is temporarily shared as static [`_iterative_clustering_2019-02-03_.html`](http://langlearn.singularitynet.io/data/clustering_2019/html/_iterative_clustering_2019-02-03_.html),  \n",
    "data shared via [`_iterative_clustering_2019-02-03_`](http://langlearn.singularitynet.io/data/clustering_2019/_iterative_clustering_2019-02-03_) folder."
   ]
  },
  {
   "cell_type": "markdown",
   "metadata": {},
   "source": [
    "## Settings"
   ]
  },
  {
   "cell_type": "code",
   "execution_count": 1,
   "metadata": {
    "ExecuteTime": {
     "end_time": "2019-02-03T08:20:30.898277Z",
     "start_time": "2019-02-03T08:20:30.282431Z"
    }
   },
   "outputs": [
    {
     "name": "stdout",
     "output_type": "stream",
     "text": [
      "2019-02-03 08:20:30 UTC :: out_dir:\n",
      " /home/obaskov/py/language-learning/output/_iterative_clustering_2019-02-03_\n"
     ]
    }
   ],
   "source": [
    "import os, sys, time\n",
    "module_path = os.path.abspath(os.path.join('..'))\n",
    "if module_path not in sys.path: sys.path.append(module_path)\n",
    "from src.grammar_learner.utl import UTC, kwa\n",
    "from src.grammar_learner.read_files import check_dir\n",
    "from src.grammar_learner.widgets import html_table\n",
    "from src.grammar_learner.pqa_table import params\n",
    "from src.grammar_learner.incremental_clustering import iterate\n",
    "tmpath = module_path + '/tmp/'\n",
    "check_dir(tmpath, True, 'none')\n",
    "table = []\n",
    "start = time.time()\n",
    "out_dir = module_path + '/output/_iterative_clustering_' + str(UTC())[:10] + '_'\n",
    "print(UTC(), ':: out_dir:\\n', out_dir)"
   ]
  },
  {
   "cell_type": "code",
   "execution_count": 2,
   "metadata": {
    "ExecuteTime": {
     "end_time": "2019-02-03T08:20:30.911366Z",
     "start_time": "2019-02-03T08:20:30.899796Z"
    },
    "scrolled": true
   },
   "outputs": [
    {
     "name": "stdout",
     "output_type": "stream",
     "text": [
      "2019-02-03 08:20:30 UTC\n"
     ]
    }
   ],
   "source": [
    "corpus = 'POC-English-Amb'\n",
    "dataset = 'MST-fixed-manually'\n",
    "input_path = module_path +'/data/'+ corpus +'/'+ dataset\n",
    "ref_corpus = module_path + '/data/POC-English-Amb/MST-fixed-manually/poc-english_ex-parses-gold.txt'\n",
    "kwargs = {\n",
    "    # Corpora: \n",
    "    'corpus'        : 'POC-English-Amb',\n",
    "    'dataset'       : 'MST-fixed-manually',\n",
    "    # 'input_parses': input_path    , # paths are set by 'corpus' and 'dataset'\n",
    "    'reference_path': ref_corpus    ,\n",
    "    'corpus_path'   : ref_corpus    , # corpus path = reference path \n",
    "    'module_path'   : module_path   , # language-learning dir (default)\n",
    "    # Word space:\n",
    "    'stop_words'    :   []          , # trash filter off\n",
    "    'min_word_count':   1           ,\n",
    "    'left_wall'     :   ''          ,\n",
    "    'period'        :   False       ,\n",
    "    'context'       :   2           , # disjunct-based word vector space\n",
    "    'word_space'    :   'vectors'   , # \"DRK\"\n",
    "    # Category learning:\n",
    "    'clustering'    :   ('kmeans', 'kmeans++', 10),\n",
    "    'cluster_range' :   (2,50,1,5)  ,\n",
    "    'cluster_criteria'  : 'silhouette',\n",
    "    'clustering_metric' : ('silhouette', 'cosine'),\n",
    "    'categories_generalization' : 'off',\n",
    "    # Grammar rules induction:\n",
    "    'grammar_rules'         : 2     , # disjunct-based link grammar rules\n",
    "    'rules_generalization'  : 'off' ,\n",
    "    'rules_merge'           : 0.8   ,\n",
    "    'rules_aggregation'     : 0.2   ,\n",
    "    'top_level'             : 0.01  ,\n",
    "    # Etc...:\n",
    "    'out_path'      :   out_dir     ,\n",
    "    'output_grammar':   out_dir     ,\n",
    "    'tmpath'        :   tmpath      , \n",
    "    'verbose'       :   'min'       ,\n",
    "    'template_path' :   'poc-turtle',\n",
    "    'linkage_limit' :   1000        ,\n",
    "    'iterations'    :   7\n",
    "}\n",
    "print(UTC()) #, ':: input_path:\\n', input_path, '\\nout_path:', kwargs['out_path'])"
   ]
  },
  {
   "cell_type": "markdown",
   "metadata": {},
   "source": [
    "## Tests: \"POC-English\" corpus, \"MST-fixed\" dateset"
   ]
  },
  {
   "cell_type": "markdown",
   "metadata": {},
   "source": [
    "### Connectors-DRK-Connectors"
   ]
  },
  {
   "cell_type": "code",
   "execution_count": 3,
   "metadata": {
    "ExecuteTime": {
     "end_time": "2019-02-03T08:20:46.430956Z",
     "start_time": "2019-02-03T08:20:30.913580Z"
    }
   },
   "outputs": [],
   "source": [
    "%%capture\n",
    "kwargs['context'] = 1\n",
    "kwargs['grammar_rules'] = 1\n",
    "table, re = iterate(**kwargs)"
   ]
  },
  {
   "cell_type": "code",
   "execution_count": 4,
   "metadata": {
    "ExecuteTime": {
     "end_time": "2019-02-03T08:20:46.437614Z",
     "start_time": "2019-02-03T08:20:46.432423Z"
    }
   },
   "outputs": [
    {
     "data": {
      "text/html": [
       "<table><tr><td>Iteration</td><td>N clusters</td><td>PA</td><td>F1</td></tr><tr><td>1</td><td>30</td><td>73%,</td><td>0.78</td></tr><tr><td>2</td><td>16</td><td>73%,</td><td>0.76</td></tr><tr><td>3</td><td>9</td><td>74%,</td><td>0.76</td></tr><tr><td>4</td><td>5</td><td>78%,</td><td>0.74</td></tr><tr><td>5</td><td>2</td><td>100%,</td><td>0.67</td></tr></table>"
      ],
      "text/plain": [
       "<IPython.core.display.HTML object>"
      ]
     },
     "metadata": {},
     "output_type": "display_data"
    },
    {
     "name": "stdout",
     "output_type": "stream",
     "text": [
      "_iterative_clustering_2019-02-03_/POC-English-Amb_MST-fixed-manually_cDRKc_no-gen\n"
     ]
    }
   ],
   "source": [
    "display(html_table(table))\n",
    "print(re['project_directory'][42:-12])"
   ]
  },
  {
   "cell_type": "markdown",
   "metadata": {},
   "source": [
    "### Connectors-DRK-Disjuncts"
   ]
  },
  {
   "cell_type": "code",
   "execution_count": 5,
   "metadata": {
    "ExecuteTime": {
     "end_time": "2019-02-03T08:21:01.997976Z",
     "start_time": "2019-02-03T08:20:46.439038Z"
    }
   },
   "outputs": [],
   "source": [
    "%%capture\n",
    "kwargs['grammar_rules'] = 2\n",
    "table, re = iterate(**kwargs)"
   ]
  },
  {
   "cell_type": "code",
   "execution_count": 6,
   "metadata": {
    "ExecuteTime": {
     "end_time": "2019-02-03T08:21:02.004781Z",
     "start_time": "2019-02-03T08:21:01.999513Z"
    },
    "scrolled": false
   },
   "outputs": [
    {
     "data": {
      "text/html": [
       "<table><tr><td>Iteration</td><td>N clusters</td><td>PA</td><td>F1</td></tr><tr><td>1</td><td>30</td><td>100%,</td><td>0.99</td></tr><tr><td>2</td><td>18</td><td>100%,</td><td>0.99</td></tr><tr><td>3</td><td>9</td><td>100%,</td><td>0.99</td></tr><tr><td>4</td><td>3</td><td>100%,</td><td>0.87</td></tr></table>"
      ],
      "text/plain": [
       "<IPython.core.display.HTML object>"
      ]
     },
     "metadata": {},
     "output_type": "display_data"
    },
    {
     "name": "stdout",
     "output_type": "stream",
     "text": [
      "_iterative_clustering_2019-02-03_/POC-English-Amb_MST-fixed-manually_cDRKd_no-gen\n"
     ]
    }
   ],
   "source": [
    "display(html_table(table))\n",
    "print(re['project_directory'][42:-12])"
   ]
  },
  {
   "cell_type": "markdown",
   "metadata": {},
   "source": [
    "### Disjuncts-DRK-Disjuncts"
   ]
  },
  {
   "cell_type": "code",
   "execution_count": 7,
   "metadata": {
    "ExecuteTime": {
     "end_time": "2019-02-03T08:21:20.210792Z",
     "start_time": "2019-02-03T08:21:02.006890Z"
    }
   },
   "outputs": [],
   "source": [
    "%%capture\n",
    "kwargs['context'] = 2\n",
    "table, re = iterate(**kwargs)"
   ]
  },
  {
   "cell_type": "code",
   "execution_count": 8,
   "metadata": {
    "ExecuteTime": {
     "end_time": "2019-02-03T08:21:20.220335Z",
     "start_time": "2019-02-03T08:21:20.212575Z"
    }
   },
   "outputs": [
    {
     "data": {
      "text/html": [
       "<table><tr><td>Iteration</td><td>N clusters</td><td>PA</td><td>F1</td></tr><tr><td>1</td><td>30</td><td>100%,</td><td>0.99</td></tr><tr><td>2</td><td>16</td><td>100%,</td><td>0.99</td></tr><tr><td>3</td><td>10</td><td>100%,</td><td>0.99</td></tr><tr><td>4</td><td>4</td><td>100%,</td><td>0.95</td></tr><tr><td>5</td><td>2</td><td>100%,</td><td>0.79</td></tr></table>"
      ],
      "text/plain": [
       "<IPython.core.display.HTML object>"
      ]
     },
     "metadata": {},
     "output_type": "display_data"
    },
    {
     "name": "stdout",
     "output_type": "stream",
     "text": [
      "_iterative_clustering_2019-02-03_/POC-English-Amb_MST-fixed-manually_dDRKd_no-gen\n"
     ]
    }
   ],
   "source": [
    "display(html_table(table))\n",
    "print(re['project_directory'][42:-12])"
   ]
  },
  {
   "cell_type": "markdown",
   "metadata": {},
   "source": [
    "### Disjuncts-ILE-Disjuncts"
   ]
  },
  {
   "cell_type": "code",
   "execution_count": 9,
   "metadata": {
    "ExecuteTime": {
     "end_time": "2019-02-03T08:21:20.686050Z",
     "start_time": "2019-02-03T08:21:20.222886Z"
    }
   },
   "outputs": [],
   "source": [
    "%%capture\n",
    "kwargs['word_space'] = 'discrete'\n",
    "kwargs['clustering'] = 'group'\n",
    "table, re = iterate(**kwargs)"
   ]
  },
  {
   "cell_type": "code",
   "execution_count": 10,
   "metadata": {
    "ExecuteTime": {
     "end_time": "2019-02-03T08:21:20.694898Z",
     "start_time": "2019-02-03T08:21:20.688050Z"
    }
   },
   "outputs": [
    {
     "data": {
      "text/html": [
       "<table><tr><td>Iteration</td><td>N clusters</td><td>PA</td><td>F1</td></tr><tr><td>1</td><td>37</td><td>100%,</td><td>1.0</td></tr><tr><td>2</td><td>37</td><td>100%,</td><td>1.0</td></tr></table>"
      ],
      "text/plain": [
       "<IPython.core.display.HTML object>"
      ]
     },
     "metadata": {},
     "output_type": "display_data"
    },
    {
     "name": "stdout",
     "output_type": "stream",
     "text": [
      "_iterative_clustering_2019-02-03_/POC-English-Amb_MST-fixed-manually_dILEd_no-gen\n"
     ]
    }
   ],
   "source": [
    "display(html_table(table))\n",
    "print(re['project_directory'][42:-12])"
   ]
  },
  {
   "cell_type": "markdown",
   "metadata": {},
   "source": [
    "### Disjuncts-ALE-Disjuncts"
   ]
  },
  {
   "cell_type": "code",
   "execution_count": 11,
   "metadata": {
    "ExecuteTime": {
     "end_time": "2019-02-03T08:21:21.438125Z",
     "start_time": "2019-02-03T08:21:20.696583Z"
    }
   },
   "outputs": [],
   "source": [
    "%%capture\n",
    "kwargs['word_space'] = 'sparse'\n",
    "kwargs['cluster_range'] = (2,36,1,1)\n",
    "kwargs['clustering'] = ('agglomerative', 'ward')\n",
    "table, re = iterate(**kwargs)"
   ]
  },
  {
   "cell_type": "code",
   "execution_count": 12,
   "metadata": {
    "ExecuteTime": {
     "end_time": "2019-02-03T08:21:21.454563Z",
     "start_time": "2019-02-03T08:21:21.439525Z"
    }
   },
   "outputs": [
    {
     "data": {
      "text/html": [
       "<table><tr><td>Iteration</td><td>N clusters</td><td>PA</td><td>F1</td></tr><tr><td>1</td><td>21</td><td>100%,</td><td>1.0</td></tr><tr><td>2</td><td>5</td><td>100%,</td><td>0.87</td></tr></table>"
      ],
      "text/plain": [
       "<IPython.core.display.HTML object>"
      ]
     },
     "metadata": {},
     "output_type": "display_data"
    },
    {
     "name": "stdout",
     "output_type": "stream",
     "text": [
      "_iterative_clustering_2019-02-03_/POC-English-Amb_MST-fixed-manually_dALWEd_no-gen\n"
     ]
    }
   ],
   "source": [
    "display(html_table(table))\n",
    "print(re['project_directory'][42:-12])"
   ]
  }
 ],
 "metadata": {
  "anaconda-cloud": {},
  "kernelspec": {
   "display_name": "Python [conda env:ull]",
   "language": "python",
   "name": "conda-env-ull-py"
  },
  "language_info": {
   "codemirror_mode": {
    "name": "ipython",
    "version": 3
   },
   "file_extension": ".py",
   "mimetype": "text/x-python",
   "name": "python",
   "nbconvert_exporter": "python",
   "pygments_lexer": "ipython3",
   "version": "3.6.6"
  },
  "toc": {
   "base_numbering": 1,
   "nav_menu": {},
   "number_sections": true,
   "sideBar": true,
   "skip_h1_title": true,
   "title_cell": "Table of Contents",
   "title_sidebar": "Contents",
   "toc_cell": true,
   "toc_position": {},
   "toc_section_display": true,
   "toc_window_display": true
  }
 },
 "nbformat": 4,
 "nbformat_minor": 2
}
